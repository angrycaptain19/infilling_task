{
 "cells": [
  {
   "cell_type": "code",
   "execution_count": 1,
   "metadata": {},
   "outputs": [],
   "source": [
    "MODEL_DIR = None\n",
    "MASK_CLS = 'ilm.mask.hierarchical.MaskHierarchical'"
   ]
  },
  {
   "cell_type": "code",
   "execution_count": 2,
   "metadata": {},
   "outputs": [
    {
     "output_type": "stream",
     "name": "stdout",
     "text": "--2021-02-28 10:01:35--  https://docs.google.com/uc?export=download&confirm=4oPS&id=1oYFLxkX6mWbmpEwQH8BmgE7iKix2W0zU\nResolving docs.google.com (docs.google.com)...2404:6800:4003:c00::71, 2404:6800:4003:c00::65, 2404:6800:4003:c00::8a, ...\nConnecting to docs.google.com (docs.google.com)|2404:6800:4003:c00::71|:443...connected.\nHTTP request sent, awaiting response...302 Moved Temporarily\nLocation: https://doc-0k-4g-docs.googleusercontent.com/docs/securesc/0mjtlf2845dt1a1b2cni9a68p1t7f2gv/bgqsv57qqoub794dehmd4a1v9c3d5edh/1614481275000/00801004230948063963/18148810083193681572Z/1oYFLxkX6mWbmpEwQH8BmgE7iKix2W0zU?e=download [following]\n--2021-02-28 10:01:35--  https://doc-0k-4g-docs.googleusercontent.com/docs/securesc/0mjtlf2845dt1a1b2cni9a68p1t7f2gv/bgqsv57qqoub794dehmd4a1v9c3d5edh/1614481275000/00801004230948063963/18148810083193681572Z/1oYFLxkX6mWbmpEwQH8BmgE7iKix2W0zU?e=download\nResolving doc-0k-4g-docs.googleusercontent.com (doc-0k-4g-docs.googleusercontent.com)... 2404:6800:4003:c03::84, 74.125.24.132\nConnecting to doc-0k-4g-docs.googleusercontent.com (doc-0k-4g-docs.googleusercontent.com)|2404:6800:4003:c03::84|:443...connected.\nHTTP request sent, awaiting response...302 Found\nLocation: https://docs.google.com/nonceSigner?nonce=cs35qg8q8mgf6&continue=https://doc-0k-4g-docs.googleusercontent.com/docs/securesc/0mjtlf2845dt1a1b2cni9a68p1t7f2gv/bgqsv57qqoub794dehmd4a1v9c3d5edh/1614481275000/00801004230948063963/18148810083193681572Z/1oYFLxkX6mWbmpEwQH8BmgE7iKix2W0zU?e%3Ddownload&hash=bvlij0bfejvscr2oll5f827gmfn950a9 [following]\n--2021-02-28 10:01:36--  https://docs.google.com/nonceSigner?nonce=cs35qg8q8mgf6&continue=https://doc-0k-4g-docs.googleusercontent.com/docs/securesc/0mjtlf2845dt1a1b2cni9a68p1t7f2gv/bgqsv57qqoub794dehmd4a1v9c3d5edh/1614481275000/00801004230948063963/18148810083193681572Z/1oYFLxkX6mWbmpEwQH8BmgE7iKix2W0zU?e%3Ddownload&hash=bvlij0bfejvscr2oll5f827gmfn950a9\nConnecting to docs.google.com (docs.google.com)|2404:6800:4003:c00::71|:443...connected.\nHTTP request sent, awaiting response...302 Found\nLocation: https://doc-0k-4g-docs.googleusercontent.com/docs/securesc/0mjtlf2845dt1a1b2cni9a68p1t7f2gv/bgqsv57qqoub794dehmd4a1v9c3d5edh/1614481275000/00801004230948063963/18148810083193681572Z/1oYFLxkX6mWbmpEwQH8BmgE7iKix2W0zU?e=download&nonce=cs35qg8q8mgf6&user=18148810083193681572Z&hash=cbg823v7mnbt32o0ogbmal5of14c1pbd [following]\n--2021-02-28 10:01:37--  https://doc-0k-4g-docs.googleusercontent.com/docs/securesc/0mjtlf2845dt1a1b2cni9a68p1t7f2gv/bgqsv57qqoub794dehmd4a1v9c3d5edh/1614481275000/00801004230948063963/18148810083193681572Z/1oYFLxkX6mWbmpEwQH8BmgE7iKix2W0zU?e=download&nonce=cs35qg8q8mgf6&user=18148810083193681572Z&hash=cbg823v7mnbt32o0ogbmal5of14c1pbd\nConnecting to doc-0k-4g-docs.googleusercontent.com (doc-0k-4g-docs.googleusercontent.com)|2404:6800:4003:c03::84|:443...connected.\nHTTP request sent, awaiting response...200 OK\nLength: unspecified [application/octet-stream]\nSaving to: ‘/tmp/ilm/models/sto_ilm/pytorch_model.bin’\n\n/tmp/ilm/models/sto     [                 <=>] 522,75M  1,56MB/s    in 9m 39s  \n\n2021-02-28 10:11:16 (925 KB/s) - ‘/tmp/ilm/models/sto_ilm/pytorch_model.bin’ saved [548146990]\n\n--2021-02-28 10:11:18--  https://docs.google.com/uc?export=download&confirm=&id=15JnXi7L6LeEB2fq4dFK2WRvDKyX46hVi\nResolving docs.google.com (docs.google.com)... 2404:6800:4003:c01::65, 2404:6800:4003:c01::64, 2404:6800:4003:c01::66, ...\nConnecting to docs.google.com (docs.google.com)|2404:6800:4003:c01::65|:443...connected.\nHTTP request sent, awaiting response...302 Moved Temporarily\nLocation: https://doc-0s-as-docs.googleusercontent.com/docs/securesc/2gmg6vofrf6e4vj7cf65btuia0olu6de/umc9a6395so51t4pva33cjtjvpnd3d5j/1614481875000/00801004230948063963/08358524789663406801Z/15JnXi7L6LeEB2fq4dFK2WRvDKyX46hVi?e=download [following]\n--2021-02-28 10:11:18--  https://doc-0s-as-docs.googleusercontent.com/docs/securesc/2gmg6vofrf6e4vj7cf65btuia0olu6de/umc9a6395so51t4pva33cjtjvpnd3d5j/1614481875000/00801004230948063963/08358524789663406801Z/15JnXi7L6LeEB2fq4dFK2WRvDKyX46hVi?e=download\nResolving doc-0s-as-docs.googleusercontent.com (doc-0s-as-docs.googleusercontent.com)... 2404:6800:4003:c03::84, 74.125.24.132\nConnecting to doc-0s-as-docs.googleusercontent.com (doc-0s-as-docs.googleusercontent.com)|2404:6800:4003:c03::84|:443...connected.\nHTTP request sent, awaiting response...302 Found\nLocation: https://docs.google.com/nonceSigner?nonce=ctlo0i67birae&continue=https://doc-0s-as-docs.googleusercontent.com/docs/securesc/2gmg6vofrf6e4vj7cf65btuia0olu6de/umc9a6395so51t4pva33cjtjvpnd3d5j/1614481875000/00801004230948063963/08358524789663406801Z/15JnXi7L6LeEB2fq4dFK2WRvDKyX46hVi?e%3Ddownload&hash=nh66gh48du548sg0ocgidu3c276r8m6k [following]\n--2021-02-28 10:11:19--  https://docs.google.com/nonceSigner?nonce=ctlo0i67birae&continue=https://doc-0s-as-docs.googleusercontent.com/docs/securesc/2gmg6vofrf6e4vj7cf65btuia0olu6de/umc9a6395so51t4pva33cjtjvpnd3d5j/1614481875000/00801004230948063963/08358524789663406801Z/15JnXi7L6LeEB2fq4dFK2WRvDKyX46hVi?e%3Ddownload&hash=nh66gh48du548sg0ocgidu3c276r8m6k\nConnecting to docs.google.com (docs.google.com)|2404:6800:4003:c01::65|:443...connected.\nHTTP request sent, awaiting response...302 Found\nLocation: https://doc-0s-as-docs.googleusercontent.com/docs/securesc/2gmg6vofrf6e4vj7cf65btuia0olu6de/umc9a6395so51t4pva33cjtjvpnd3d5j/1614481875000/00801004230948063963/08358524789663406801Z/15JnXi7L6LeEB2fq4dFK2WRvDKyX46hVi?e=download&nonce=ctlo0i67birae&user=08358524789663406801Z&hash=ura4db4u2fu56idijpuvms479ds12cpi [following]\n--2021-02-28 10:11:19--  https://doc-0s-as-docs.googleusercontent.com/docs/securesc/2gmg6vofrf6e4vj7cf65btuia0olu6de/umc9a6395so51t4pva33cjtjvpnd3d5j/1614481875000/00801004230948063963/08358524789663406801Z/15JnXi7L6LeEB2fq4dFK2WRvDKyX46hVi?e=download&nonce=ctlo0i67birae&user=08358524789663406801Z&hash=ura4db4u2fu56idijpuvms479ds12cpi\nConnecting to doc-0s-as-docs.googleusercontent.com (doc-0s-as-docs.googleusercontent.com)|2404:6800:4003:c03::84|:443...connected.\nHTTP request sent, awaiting response...200 OK\nLength: 1307 (1,3K) [application/json]\nSaving to: ‘/tmp/ilm/models/sto_ilm/config.json’\n\n/tmp/ilm/models/sto 100%[===================>]   1,28K  --.-KB/s    in 0s      \n\n2021-02-28 10:11:20 (23,5 MB/s) - ‘/tmp/ilm/models/sto_ilm/config.json’ saved [1307/1307]\n\n--2021-02-28 10:11:21--  https://docs.google.com/uc?export=download&confirm=&id=1nTQVe2tfkWV8dumbrLIHzMgPwpLIbYUd\nResolving docs.google.com (docs.google.com)... 2404:6800:4003:c01::65, 2404:6800:4003:c01::64, 2404:6800:4003:c01::66, ...\nConnecting to docs.google.com (docs.google.com)|2404:6800:4003:c01::65|:443...connected.\nHTTP request sent, awaiting response...302 Moved Temporarily\nLocation: https://doc-0g-3k-docs.googleusercontent.com/docs/securesc/2bdrlbrua7fa53ck5k2ri0h2ulk74m5u/j0dl4sllbhljrhhkli05jhu5lhmj22k1/1614481875000/00801004230948063963/02741681477223362813Z/1nTQVe2tfkWV8dumbrLIHzMgPwpLIbYUd?e=download [following]\n--2021-02-28 10:11:22--  https://doc-0g-3k-docs.googleusercontent.com/docs/securesc/2bdrlbrua7fa53ck5k2ri0h2ulk74m5u/j0dl4sllbhljrhhkli05jhu5lhmj22k1/1614481875000/00801004230948063963/02741681477223362813Z/1nTQVe2tfkWV8dumbrLIHzMgPwpLIbYUd?e=download\nResolving doc-0g-3k-docs.googleusercontent.com (doc-0g-3k-docs.googleusercontent.com)... 2404:6800:4003:c02::84, 74.125.68.132\nConnecting to doc-0g-3k-docs.googleusercontent.com (doc-0g-3k-docs.googleusercontent.com)|2404:6800:4003:c02::84|:443...connected.\nHTTP request sent, awaiting response...302 Found\nLocation: https://docs.google.com/nonceSigner?nonce=o6l4oub82e1k8&continue=https://doc-0g-3k-docs.googleusercontent.com/docs/securesc/2bdrlbrua7fa53ck5k2ri0h2ulk74m5u/j0dl4sllbhljrhhkli05jhu5lhmj22k1/1614481875000/00801004230948063963/02741681477223362813Z/1nTQVe2tfkWV8dumbrLIHzMgPwpLIbYUd?e%3Ddownload&hash=uicb9e4d6sepm0j5ranj6i12nfqcd866 [following]\n--2021-02-28 10:11:22--  https://docs.google.com/nonceSigner?nonce=o6l4oub82e1k8&continue=https://doc-0g-3k-docs.googleusercontent.com/docs/securesc/2bdrlbrua7fa53ck5k2ri0h2ulk74m5u/j0dl4sllbhljrhhkli05jhu5lhmj22k1/1614481875000/00801004230948063963/02741681477223362813Z/1nTQVe2tfkWV8dumbrLIHzMgPwpLIbYUd?e%3Ddownload&hash=uicb9e4d6sepm0j5ranj6i12nfqcd866\nConnecting to docs.google.com (docs.google.com)|2404:6800:4003:c01::65|:443...connected.\nHTTP request sent, awaiting response...302 Found\nLocation: https://doc-0g-3k-docs.googleusercontent.com/docs/securesc/2bdrlbrua7fa53ck5k2ri0h2ulk74m5u/j0dl4sllbhljrhhkli05jhu5lhmj22k1/1614481875000/00801004230948063963/02741681477223362813Z/1nTQVe2tfkWV8dumbrLIHzMgPwpLIbYUd?e=download&nonce=o6l4oub82e1k8&user=02741681477223362813Z&hash=6efm88r1vic5ra2m30e4ofj6p2rt3umh [following]\n--2021-02-28 10:11:23--  https://doc-0g-3k-docs.googleusercontent.com/docs/securesc/2bdrlbrua7fa53ck5k2ri0h2ulk74m5u/j0dl4sllbhljrhhkli05jhu5lhmj22k1/1614481875000/00801004230948063963/02741681477223362813Z/1nTQVe2tfkWV8dumbrLIHzMgPwpLIbYUd?e=download&nonce=o6l4oub82e1k8&user=02741681477223362813Z&hash=6efm88r1vic5ra2m30e4ofj6p2rt3umh\nConnecting to doc-0g-3k-docs.googleusercontent.com (doc-0g-3k-docs.googleusercontent.com)|2404:6800:4003:c02::84|:443...connected.\nHTTP request sent, awaiting response...200 OK\nLength: 199 [application/octet-stream]\nSaving to: ‘/tmp/ilm/models/sto_ilm/additional_ids_to_tokens.pkl’\n\n/tmp/ilm/models/sto 100%[===================>]     199  --.-KB/s    in 0s      \n\n2021-02-28 10:11:23 (12,0 MB/s) - ‘/tmp/ilm/models/sto_ilm/additional_ids_to_tokens.pkl’ saved [199/199]\n\n"
    }
   ],
   "source": [
    "# Download pretrained model\n",
    "\n",
    "if MODEL_DIR is None:\n",
    "    !python acl20_repro.py model sto ilm | bash\n",
    "    MODEL_DIR = '/tmp/ilm/models/sto_ilm'"
   ]
  },
  {
   "cell_type": "code",
   "execution_count": 2,
   "metadata": {},
   "outputs": [
    {
     "output_type": "error",
     "ename": "TypeError",
     "evalue": "expected str, bytes or os.PathLike object, not NoneType",
     "traceback": [
      "\u001b[0;31m---------------------------------------------------------------------------\u001b[0m",
      "\u001b[0;31mTypeError\u001b[0m                                 Traceback (most recent call last)",
      "\u001b[0;32m<ipython-input-2-67188398b2aa>\u001b[0m in \u001b[0;36m<module>\u001b[0;34m\u001b[0m\n\u001b[1;32m      7\u001b[0m \u001b[0;34m\u001b[0m\u001b[0m\n\u001b[1;32m      8\u001b[0m \u001b[0mtokenizer\u001b[0m \u001b[0;34m=\u001b[0m \u001b[0milm\u001b[0m\u001b[0;34m.\u001b[0m\u001b[0mtokenize_util\u001b[0m\u001b[0;34m.\u001b[0m\u001b[0mTokenizer\u001b[0m\u001b[0;34m.\u001b[0m\u001b[0mGPT2\u001b[0m\u001b[0;34m\u001b[0m\u001b[0;34m\u001b[0m\u001b[0m\n\u001b[0;32m----> 9\u001b[0;31m \u001b[0;32mwith\u001b[0m \u001b[0mopen\u001b[0m\u001b[0;34m(\u001b[0m\u001b[0mos\u001b[0m\u001b[0;34m.\u001b[0m\u001b[0mpath\u001b[0m\u001b[0;34m.\u001b[0m\u001b[0mjoin\u001b[0m\u001b[0;34m(\u001b[0m\u001b[0mMODEL_DIR\u001b[0m\u001b[0;34m,\u001b[0m \u001b[0;34m'additional_ids_to_tokens.pkl'\u001b[0m\u001b[0;34m)\u001b[0m\u001b[0;34m,\u001b[0m \u001b[0;34m'rb'\u001b[0m\u001b[0;34m)\u001b[0m \u001b[0;32mas\u001b[0m \u001b[0mf\u001b[0m\u001b[0;34m:\u001b[0m\u001b[0;34m\u001b[0m\u001b[0;34m\u001b[0m\u001b[0m\n\u001b[0m\u001b[1;32m     10\u001b[0m     \u001b[0madditional_ids_to_tokens\u001b[0m \u001b[0;34m=\u001b[0m \u001b[0mpickle\u001b[0m\u001b[0;34m.\u001b[0m\u001b[0mload\u001b[0m\u001b[0;34m(\u001b[0m\u001b[0mf\u001b[0m\u001b[0;34m)\u001b[0m\u001b[0;34m\u001b[0m\u001b[0;34m\u001b[0m\u001b[0m\n\u001b[1;32m     11\u001b[0m \u001b[0madditional_tokens_to_ids\u001b[0m \u001b[0;34m=\u001b[0m \u001b[0;34m{\u001b[0m\u001b[0mv\u001b[0m\u001b[0;34m:\u001b[0m\u001b[0mk\u001b[0m \u001b[0;32mfor\u001b[0m \u001b[0mk\u001b[0m\u001b[0;34m,\u001b[0m \u001b[0mv\u001b[0m \u001b[0;32min\u001b[0m \u001b[0madditional_ids_to_tokens\u001b[0m\u001b[0;34m.\u001b[0m\u001b[0mitems\u001b[0m\u001b[0;34m(\u001b[0m\u001b[0;34m)\u001b[0m\u001b[0;34m}\u001b[0m\u001b[0;34m\u001b[0m\u001b[0;34m\u001b[0m\u001b[0m\n",
      "\u001b[0;32m~/anaconda3/envs/oscar/lib/python3.7/posixpath.py\u001b[0m in \u001b[0;36mjoin\u001b[0;34m(a, *p)\u001b[0m\n\u001b[1;32m     78\u001b[0m     \u001b[0mwill\u001b[0m \u001b[0mbe\u001b[0m \u001b[0mdiscarded\u001b[0m\u001b[0;34m.\u001b[0m  \u001b[0mAn\u001b[0m \u001b[0mempty\u001b[0m \u001b[0mlast\u001b[0m \u001b[0mpart\u001b[0m \u001b[0mwill\u001b[0m \u001b[0mresult\u001b[0m \u001b[0;32min\u001b[0m \u001b[0ma\u001b[0m \u001b[0mpath\u001b[0m \u001b[0mthat\u001b[0m\u001b[0;34m\u001b[0m\u001b[0;34m\u001b[0m\u001b[0m\n\u001b[1;32m     79\u001b[0m     ends with a separator.\"\"\"\n\u001b[0;32m---> 80\u001b[0;31m     \u001b[0ma\u001b[0m \u001b[0;34m=\u001b[0m \u001b[0mos\u001b[0m\u001b[0;34m.\u001b[0m\u001b[0mfspath\u001b[0m\u001b[0;34m(\u001b[0m\u001b[0ma\u001b[0m\u001b[0;34m)\u001b[0m\u001b[0;34m\u001b[0m\u001b[0;34m\u001b[0m\u001b[0m\n\u001b[0m\u001b[1;32m     81\u001b[0m     \u001b[0msep\u001b[0m \u001b[0;34m=\u001b[0m \u001b[0m_get_sep\u001b[0m\u001b[0;34m(\u001b[0m\u001b[0ma\u001b[0m\u001b[0;34m)\u001b[0m\u001b[0;34m\u001b[0m\u001b[0;34m\u001b[0m\u001b[0m\n\u001b[1;32m     82\u001b[0m     \u001b[0mpath\u001b[0m \u001b[0;34m=\u001b[0m \u001b[0ma\u001b[0m\u001b[0;34m\u001b[0m\u001b[0;34m\u001b[0m\u001b[0m\n",
      "\u001b[0;31mTypeError\u001b[0m: expected str, bytes or os.PathLike object, not NoneType"
     ]
    }
   ],
   "source": [
    "# Prepare tokenizer\n",
    "\n",
    "import os\n",
    "import pickle\n",
    "\n",
    "import ilm.tokenize_util\n",
    "\n",
    "tokenizer = ilm.tokenize_util.Tokenizer.GPT2\n",
    "with open(os.path.join(MODEL_DIR, 'additional_ids_to_tokens.pkl'), 'rb') as f:\n",
    "    additional_ids_to_tokens = pickle.load(f)\n",
    "additional_tokens_to_ids = {v:k for k, v in additional_ids_to_tokens.items()}\n",
    "try:\n",
    "    ilm.tokenize_util.update_tokenizer(additional_ids_to_tokens, tokenizer)\n",
    "except ValueError:\n",
    "    print('Already updated')\n",
    "print(additional_tokens_to_ids)"
   ]
  },
  {
   "cell_type": "code",
   "execution_count": 4,
   "metadata": {},
   "outputs": [],
   "source": [
    "# Load model\n",
    "\n",
    "import torch\n",
    "from transformers import GPT2LMHeadModel\n",
    "\n",
    "device = torch.device('cuda' if torch.cuda.is_available() else 'cpu')\n",
    "model = GPT2LMHeadModel.from_pretrained(MODEL_DIR)\n",
    "model.eval()\n",
    "_ = model.to(device)"
   ]
  },
  {
   "cell_type": "code",
   "execution_count": 5,
   "metadata": {},
   "outputs": [
    {
     "name": "stdout",
     "output_type": "stream",
     "text": [
      "Math Class\n",
      "Chris was bad at<|infill_word|>.<|infill_sentence|><|infill_sentence|><|infill_sentence|> He ended up passing the test.\n"
     ]
    }
   ],
   "source": [
    "# Create context\n",
    "\n",
    "context = \"\"\"\n",
    "Math Class\n",
    "Chris was bad at _. _ _ _ He ended up passing the test.\n",
    "\"\"\".strip()\n",
    "\n",
    "context_ids = ilm.tokenize_util.encode(context, tokenizer)\n",
    "\n",
    "# Replace blanks with appropriate tokens from left to right\n",
    "_blank_id = ilm.tokenize_util.encode(' _', tokenizer)[0]\n",
    "context_ids[context_ids.index(_blank_id)] = additional_tokens_to_ids['<|infill_word|>']\n",
    "context_ids[context_ids.index(_blank_id)] = additional_tokens_to_ids['<|infill_sentence|>']\n",
    "context_ids[context_ids.index(_blank_id)] = additional_tokens_to_ids['<|infill_sentence|>']\n",
    "context_ids[context_ids.index(_blank_id)] = additional_tokens_to_ids['<|infill_sentence|>']\n",
    "print(ilm.tokenize_util.decode(context_ids, tokenizer))"
   ]
  },
  {
   "cell_type": "code",
   "execution_count": 11,
   "metadata": {},
   "outputs": [
    {
     "name": "stdout",
     "output_type": "stream",
     "text": [
      "--------------------------------------------------------------------------------\n",
      "Math Class\n",
      "Chris was bad at math. He needed to do well on the test. He decided to study more. Chris spent all day studying. He ended up passing the test.\n",
      "--------------------------------------------------------------------------------\n",
      "Math Class\n",
      "Chris was bad at math. He decided to go to a class to improve. His teacher learned that Chris was failing math. Chris decided to take his own math class. He ended up passing the test.\n"
     ]
    }
   ],
   "source": [
    "from ilm.infer import infill_with_ilm\n",
    "\n",
    "generated = infill_with_ilm(\n",
    "    model,\n",
    "    additional_tokens_to_ids,\n",
    "    context_ids,\n",
    "    num_infills=2)\n",
    "for g in generated:\n",
    "    print('-' * 80)\n",
    "    print(ilm.tokenize_util.decode(g, tokenizer))"
   ]
  }
 ],
 "metadata": {
  "kernelspec": {
   "display_name": "Python 3.7.9 64-bit ('oscar': conda)",
   "language": "python",
   "name": "python37964bitoscarconda6df215561186428a8b53c4384a8a83c5"
  },
  "language_info": {
   "codemirror_mode": {
    "name": "ipython",
    "version": 3
   },
   "file_extension": ".py",
   "mimetype": "text/x-python",
   "name": "python",
   "nbconvert_exporter": "python",
   "pygments_lexer": "ipython3",
   "version": "3.7.9-final"
  }
 },
 "nbformat": 4,
 "nbformat_minor": 4
}